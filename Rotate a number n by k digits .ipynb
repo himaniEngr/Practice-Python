{
 "cells": [
  {
   "cell_type": "code",
   "execution_count": 11,
   "metadata": {},
   "outputs": [
    {
     "name": "stdout",
     "output_type": "stream",
     "text": [
      "Enter value of n12345\n",
      "Enter value of k0\n",
      "12345\n"
     ]
    }
   ],
   "source": [
    "n=int(input('Enter value of n'))  #12345\n",
    "k=int(input('Enter value of k'))  #22\n",
    "l=len(str(n))                     #5\n",
    "k=((k%l)+l)%l                     #2\n",
    "left_no= n//pow(10,l-k)           #12\n",
    "num=n%pow(10,l-k)                 #345\n",
    "n=num*pow(10,k)+left_no           #34512\n",
    "print(n)"
   ]
  },
  {
   "cell_type": "code",
   "execution_count": null,
   "metadata": {},
   "outputs": [],
   "source": []
  }
 ],
 "metadata": {
  "kernelspec": {
   "display_name": "Python 3",
   "language": "python",
   "name": "python3"
  },
  "language_info": {
   "codemirror_mode": {
    "name": "ipython",
    "version": 3
   },
   "file_extension": ".py",
   "mimetype": "text/x-python",
   "name": "python",
   "nbconvert_exporter": "python",
   "pygments_lexer": "ipython3",
   "version": "3.8.5"
  }
 },
 "nbformat": 4,
 "nbformat_minor": 4
}
