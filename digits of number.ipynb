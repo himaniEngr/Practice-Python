{
 "cells": [
  {
   "cell_type": "code",
   "execution_count": 12,
   "metadata": {},
   "outputs": [
    {
     "name": "stdout",
     "output_type": "stream",
     "text": [
      "Enter a number1223345456547\n",
      "Number is made up of digits {1, 2, 3, 4, 5, 6, 7}\n"
     ]
    }
   ],
   "source": [
    "n=int(input('Enter a number'))\n",
    "num=set()\n",
    "while(n):\n",
    "    x=n%10\n",
    "    num.add(x)\n",
    "    n=n//10\n",
    "if len(num)==0:\n",
    "    print('Number is made up of digit 0')\n",
    "else:\n",
    "    print('Number is made up of digits', num)"
   ]
  },
  {
   "cell_type": "code",
   "execution_count": null,
   "metadata": {},
   "outputs": [],
   "source": []
  }
 ],
 "metadata": {
  "kernelspec": {
   "display_name": "Python 3",
   "language": "python",
   "name": "python3"
  },
  "language_info": {
   "codemirror_mode": {
    "name": "ipython",
    "version": 3
   },
   "file_extension": ".py",
   "mimetype": "text/x-python",
   "name": "python",
   "nbconvert_exporter": "python",
   "pygments_lexer": "ipython3",
   "version": "3.8.5"
  }
 },
 "nbformat": 4,
 "nbformat_minor": 4
}
