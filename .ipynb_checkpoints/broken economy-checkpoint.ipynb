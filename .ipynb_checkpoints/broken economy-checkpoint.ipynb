{
 "cells": [
  {
   "cell_type": "code",
   "execution_count": 1,
   "metadata": {},
   "outputs": [
    {
     "name": "stdout",
     "output_type": "stream",
     "text": [
      "Enter size of array6\n",
      "Enter array values6 8  9 7 9 6\n",
      "Enter required denomination67\n"
     ]
    }
   ],
   "source": [
    "def floorCeil(arr,n,num):\n",
    "    ceil,floor,lo,hi=-1,-1,0,n-1\n",
    "    while lo<=hi:\n",
    "        mid=(lo+hi)//2\n",
    "        if arr[mid]==num:\n",
    "            print(mid)\n",
    "            return\n",
    "        elif arr[mid]<num:\n",
    "            lo=mid+1\n",
    "            floor=arr[mid]\n",
    "        else:\n",
    "            hi=mid-1\n",
    "            ceil=arr[mid]\n",
    "    print(floor)\n",
    "    print(ceil)\n",
    "    return\n",
    "arr=list(map(int,input('Enter array values').strip().split()))\n",
    "arr.sort()\n",
    "n=len(arr)\n",
    "num=int(input('Enter required denomination'))\n",
    "floorCeil(arr,n,num)"
   ]
  },
  {
   "cell_type": "code",
   "execution_count": null,
   "metadata": {},
   "outputs": [],
   "source": []
  }
 ],
 "metadata": {
  "kernelspec": {
   "display_name": "Python 3",
   "language": "python",
   "name": "python3"
  },
  "language_info": {
   "codemirror_mode": {
    "name": "ipython",
    "version": 3
   },
   "file_extension": ".py",
   "mimetype": "text/x-python",
   "name": "python",
   "nbconvert_exporter": "python",
   "pygments_lexer": "ipython3",
   "version": "3.8.5"
  }
 },
 "nbformat": 4,
 "nbformat_minor": 4
}
