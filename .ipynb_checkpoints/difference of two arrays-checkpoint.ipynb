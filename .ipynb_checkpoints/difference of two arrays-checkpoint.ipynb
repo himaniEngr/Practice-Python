{
 "cells": [
  {
   "cell_type": "code",
   "execution_count": 1,
   "metadata": {},
   "outputs": [
    {
     "name": "stdout",
     "output_type": "stream",
     "text": [
      "Enter first array2 3 4 5 6 6\n",
      "Enter second array3 4 5 6 6 \n"
     ]
    }
   ],
   "source": [
    "arr1=list(map(int, input('Enter first array').strip().split()))\n",
    "arr2=list(map(int, input('Enter second array').strip().split()))\n",
    "n1,n2=len(arr1), len(arr2)\n",
    "mx=len(arr2) #because arr2 is never shorter than arr1\n",
    "arr=[0]*mx\n",
    "i=n1-1\n",
    "j=n2-1\n",
    "k=mx-1"
   ]
  },
  {
   "cell_type": "code",
   "execution_count": 2,
   "metadata": {},
   "outputs": [
    {
     "data": {
      "text/plain": [
       "(20, 10)"
      ]
     },
     "execution_count": 2,
     "metadata": {},
     "output_type": "execute_result"
    }
   ],
   "source": [
    "a,b=10,20\n",
    "a,b=b,a\n",
    "a,b"
   ]
  },
  {
   "cell_type": "code",
   "execution_count": null,
   "metadata": {},
   "outputs": [],
   "source": []
  }
 ],
 "metadata": {
  "kernelspec": {
   "display_name": "Python 3",
   "language": "python",
   "name": "python3"
  },
  "language_info": {
   "codemirror_mode": {
    "name": "ipython",
    "version": 3
   },
   "file_extension": ".py",
   "mimetype": "text/x-python",
   "name": "python",
   "nbconvert_exporter": "python",
   "pygments_lexer": "ipython3",
   "version": "3.8.5"
  }
 },
 "nbformat": 4,
 "nbformat_minor": 4
}
