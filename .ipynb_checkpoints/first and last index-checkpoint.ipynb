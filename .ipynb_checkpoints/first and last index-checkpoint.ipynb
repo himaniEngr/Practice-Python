{
 "cells": [
  {
   "cell_type": "code",
   "execution_count": 12,
   "metadata": {},
   "outputs": [
    {
     "name": "stdout",
     "output_type": "stream",
     "text": [
      "32 32 32 67 78 89 100\n",
      "Enter number to be searched: 32\n",
      "0\n",
      "2\n"
     ]
    }
   ],
   "source": [
    "def first(arr,n):\n",
    "    l=len(arr)\n",
    "    fi=-1\n",
    "    lo=0\n",
    "    hi=l-1\n",
    "    while lo<=hi:\n",
    "        mid=(hi+lo)//2\n",
    "        if arr[mid]==n:\n",
    "            fi=mid\n",
    "            hi=mid-1\n",
    "        elif(arr[mid]<n):\n",
    "            lo=mid+1\n",
    "        else:\n",
    "            hi=mid-1\n",
    "    return fi\n",
    "def last(arr,n):\n",
    "    l=len(arr)\n",
    "    la=-1\n",
    "    lo=0\n",
    "    hi=l-1\n",
    "    while lo<=hi:\n",
    "        mid=(hi+lo)//2\n",
    "        if arr[mid]==n:\n",
    "            la=mid\n",
    "            lo=mid+1\n",
    "        elif(arr[mid]<n):\n",
    "            lo=mid+1\n",
    "        else:\n",
    "            hi=mid-1\n",
    "    return la\n",
    "    \n",
    "arr=list(map(int, input().strip().split()))\n",
    "n=int(input('Enter number to be searched: '))\n",
    "print(first(arr,n))\n",
    "print(last(arr,n))"
   ]
  },
  {
   "cell_type": "code",
   "execution_count": null,
   "metadata": {},
   "outputs": [],
   "source": []
  }
 ],
 "metadata": {
  "kernelspec": {
   "display_name": "Python 3",
   "language": "python",
   "name": "python3"
  },
  "language_info": {
   "codemirror_mode": {
    "name": "ipython",
    "version": 3
   },
   "file_extension": ".py",
   "mimetype": "text/x-python",
   "name": "python",
   "nbconvert_exporter": "python",
   "pygments_lexer": "ipython3",
   "version": "3.8.5"
  }
 },
 "nbformat": 4,
 "nbformat_minor": 4
}
