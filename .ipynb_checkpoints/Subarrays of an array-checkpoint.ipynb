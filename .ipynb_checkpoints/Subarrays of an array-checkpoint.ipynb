{
 "cells": [
  {
   "cell_type": "code",
   "execution_count": 1,
   "metadata": {},
   "outputs": [
    {
     "name": "stdout",
     "output_type": "stream",
     "text": [
      "Enter length of array5\n",
      "Enter array1 2 3 4 5\n"
     ]
    }
   ],
   "source": [
    "printSubArr(arr,n):\n",
    "    for  in range(n):\n",
    "        for j in range (i,n):\n",
    "            for k in range(i,j+1):\n",
    "                print(arr[k],'\\t',end='')\n",
    "            print()\n",
    "\n",
    "n=int(input('Enter length of array'))\n",
    "arr=list(map(int,input('Enter array').strip().split()))\n",
    "printSubArr(arr,n)"
   ]
  },
  {
   "cell_type": "code",
   "execution_count": null,
   "metadata": {},
   "outputs": [],
   "source": []
  }
 ],
 "metadata": {
  "kernelspec": {
   "display_name": "Python 3",
   "language": "python",
   "name": "python3"
  },
  "language_info": {
   "codemirror_mode": {
    "name": "ipython",
    "version": 3
   },
   "file_extension": ".py",
   "mimetype": "text/x-python",
   "name": "python",
   "nbconvert_exporter": "python",
   "pygments_lexer": "ipython3",
   "version": "3.8.5"
  }
 },
 "nbformat": 4,
 "nbformat_minor": 4
}
