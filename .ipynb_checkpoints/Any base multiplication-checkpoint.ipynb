{
 "cells": [
  {
   "cell_type": "code",
   "execution_count": 4,
   "metadata": {},
   "outputs": [
    {
     "name": "stdout",
     "output_type": "stream",
     "text": [
      "Enter first number247\n",
      "Enter second number56\n",
      "Enter base8\n",
      "Product of numbers is  24\n"
     ]
    },
    {
     "data": {
      "text/plain": [
       "24"
      ]
     },
     "execution_count": 4,
     "metadata": {},
     "output_type": "execute_result"
    }
   ],
   "source": [
    "def numberSystemAddition(n1,n2,b):\n",
    "    ans=0\n",
    "    carry=0\n",
    "    power=1\n",
    "    while n1>0 or n2>0 or carry>0:\n",
    "        d1=n1%10\n",
    "        n1=n1//10\n",
    "        d2=n2%10\n",
    "        n2=n2//10\n",
    "        digit=d1+d2+carry\n",
    "        carry=digit//b\n",
    "        digit=digit%b\n",
    "        ans=ans+(digit*power)\n",
    "        power*=10\n",
    "    return ans\n",
    "def getProductWithSingleDigit(base,n1,d2):\n",
    "    c=0\n",
    "    rv=0\n",
    "    p=1\n",
    "    while n1>0 or c>0:\n",
    "        d1=n1%10\n",
    "        n1=n1//10\n",
    "        d=d1*d2 +c\n",
    "        c=d//base\n",
    "        d=d%base\n",
    "        rv=rv+(d*p)\n",
    "        p=p*10\n",
    "    return rv\n",
    "\n",
    "def getProduct(base,n1,n2):\n",
    "    p=1\n",
    "    ans=0\n",
    "    while n2>0:\n",
    "        d2=n2%10\n",
    "        n2=n2//10\n",
    "        pwod=getProductWithSingleDigit(base,n1,d2)\n",
    "        ans=numberSystemAddition(base,ans,pwod*p)\n",
    "        p=p*10\n",
    "    return ans\n",
    "\n",
    "n1=int(input('Enter first number'))\n",
    "n2=int(input('Enter second number'))\n",
    "base=int(input('Enter base'))\n",
    "print('Product of numbers is ',getProduct(base,n1,n2))\n",
    "getProduct(base,n1,n2)\n"
   ]
  },
  {
   "cell_type": "code",
   "execution_count": null,
   "metadata": {},
   "outputs": [],
   "source": [
    "def getSum(b, n1, n2):\n",
    "  ans = 0\n",
    "        carry = 0\n",
    "                power = 1\n",
    "                      while n1 > 0 or n2 > 0 or carry > 0:\n",
    "                        d1 = n1 % 10\n",
    "                             n1 = n1//10\n",
    "                                  d2 = n2 %    10\n",
    "                                       n2 = n2 //10\n",
    "                                           digit = d1 + d2 + carry\n",
    "\n",
    "                                               carry = digit//b\n",
    "                                                   digit = digit % b\n",
    "\n",
    "                                                       ans = ans + (digit * power)\n",
    "                                                             power = power * 10\n",
    "\n",
    "                                                                 return ans\n",
    "\n",
    "                                                                     def getProductWithSingleDigit(base, n1, d2):\n",
    "# write your code here\n",
    "\n",
    "                                                                     def getProduct(base, n1, n2):\n",
    "# write your code here\n",
    "\n",
    "\n",
    "                                                                 if __name__ == '__main__':\n",
    "                                                                     base = int(input())\n",
    "                                                                           n1 = int(input())\n",
    "                                                                               n2 = int(input())\n",
    "\n",
    "                                                                                   solution = getProduct(base, n1, n2)\n",
    "                                                                                       print(solution)"
   ]
  }
 ],
 "metadata": {
  "kernelspec": {
   "display_name": "Python 3",
   "language": "python",
   "name": "python3"
  },
  "language_info": {
   "codemirror_mode": {
    "name": "ipython",
    "version": 3
   },
   "file_extension": ".py",
   "mimetype": "text/x-python",
   "name": "python",
   "nbconvert_exporter": "python",
   "pygments_lexer": "ipython3",
   "version": "3.8.5"
  }
 },
 "nbformat": 4,
 "nbformat_minor": 4
}
