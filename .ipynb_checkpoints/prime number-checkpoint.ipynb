{
 "cells": [
  {
   "cell_type": "code",
   "execution_count": 8,
   "metadata": {},
   "outputs": [
    {
     "name": "stdout",
     "output_type": "stream",
     "text": [
      "Enter number of test cases5\n",
      "Enter number to be tested4\n",
      "Prime Number\n",
      "Enter number to be tested6\n",
      "Not Prime\n",
      "Enter number to be tested9\n",
      "Prime Number\n",
      "Enter number to be tested11\n",
      "Prime Number\n",
      "Enter number to be tested45\n",
      "Not Prime\n"
     ]
    }
   ],
   "source": [
    "   \n",
    "testCases=int(input('Enter number of test cases'))\n",
    "for _ in range(testCases):\n",
    "    num=int(input('Enter number to be tested'))\n",
    "    count=0\n",
    "    div=1\n",
    "    while div<=n:\n",
    "        "
   ]
  },
  {
   "cell_type": "code",
   "execution_count": null,
   "metadata": {},
   "outputs": [],
   "source": []
  }
 ],
 "metadata": {
  "kernelspec": {
   "display_name": "Python 3",
   "language": "python",
   "name": "python3"
  },
  "language_info": {
   "codemirror_mode": {
    "name": "ipython",
    "version": 3
   },
   "file_extension": ".py",
   "mimetype": "text/x-python",
   "name": "python",
   "nbconvert_exporter": "python",
   "pygments_lexer": "ipython3",
   "version": "3.8.5"
  }
 },
 "nbformat": 4,
 "nbformat_minor": 4
}
