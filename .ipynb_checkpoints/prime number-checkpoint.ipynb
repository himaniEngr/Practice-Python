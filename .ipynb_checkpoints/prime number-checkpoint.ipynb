{
 "cells": [
  {
   "cell_type": "code",
   "execution_count": null,
   "metadata": {},
   "outputs": [],
   "source": [
    "import math \n",
    "def checkPrime(num):\n",
    "    prime='Prime Number'\n",
    "    n=math.sqrt(num)\n",
    "    if num>=2:\n",
    "        for i in range(2,n):\n",
    "            if num%i==0:\n",
    "                prime='Not Prime'\n",
    "    else:\n",
    "        prime='Not Prime'\n",
    "    \n",
    "     return prime\n",
    "    \n",
    "testCases=int(input('Enter number of test cases'))\n",
    "for _ in range(testCases):\n",
    "    num=int(input('Enter number to be tested'))\n",
    "    print(checkPrime(num))"
   ]
  }
 ],
 "metadata": {
  "kernelspec": {
   "display_name": "Python 3",
   "language": "python",
   "name": "python3"
  },
  "language_info": {
   "codemirror_mode": {
    "name": "ipython",
    "version": 3
   },
   "file_extension": ".py",
   "mimetype": "text/x-python",
   "name": "python",
   "nbconvert_exporter": "python",
   "pygments_lexer": "ipython3",
   "version": "3.8.5"
  }
 },
 "nbformat": 4,
 "nbformat_minor": 4
}
