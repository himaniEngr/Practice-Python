{
 "cells": [
  {
   "cell_type": "code",
   "execution_count": 12,
   "metadata": {},
   "outputs": [
    {
     "name": "stdout",
     "output_type": "stream",
     "text": [
      "93\n",
      "Excellent\n"
     ]
    }
   ],
   "source": [
    "def grade(marks):\n",
    "    if marks>90:\n",
    "        return 'Excellent'\n",
    "    elif marks>80 and marks<=90:\n",
    "        return 'Good'\n",
    "    elif marks>70 and marks<=80:\n",
    "        return 'Fair'\n",
    "    elif marks>60 and marks<=70:\n",
    "        return 'Meets Expectations'\n",
    "    else:\n",
    "        return 'below par'\n",
    "marks=int(input())\n",
    "print(grade(marks))"
   ]
  },
  {
   "cell_type": "code",
   "execution_count": null,
   "metadata": {},
   "outputs": [],
   "source": []
  },
  {
   "cell_type": "code",
   "execution_count": null,
   "metadata": {},
   "outputs": [],
   "source": []
  }
 ],
 "metadata": {
  "kernelspec": {
   "display_name": "Python 3",
   "language": "python",
   "name": "python3"
  },
  "language_info": {
   "codemirror_mode": {
    "name": "ipython",
    "version": 3
   },
   "file_extension": ".py",
   "mimetype": "text/x-python",
   "name": "python",
   "nbconvert_exporter": "python",
   "pygments_lexer": "ipython3",
   "version": "3.8.5"
  }
 },
 "nbformat": 4,
 "nbformat_minor": 4
}
