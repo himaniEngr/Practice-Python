{
 "cells": [
  {
   "cell_type": "code",
   "execution_count": 17,
   "metadata": {},
   "outputs": [
    {
     "data": {
      "text/plain": [
       "10011010010"
      ]
     },
     "execution_count": 17,
     "metadata": {},
     "output_type": "execute_result"
    }
   ],
   "source": [
    "#Number system using python\n",
    "#convert a given number n in base 10 to base b\n",
    "def numberSystem(n,b):\n",
    "    ans=0\n",
    "    num=0\n",
    "    digit=1\n",
    "    while n>0:\n",
    "        num=n%b\n",
    "        ans=ans+digit*num\n",
    "        digit=digit*10\n",
    "        n=n//b\n",
    "    return ans\n",
    "numberSystem(1234,2)"
   ]
  },
  {
   "cell_type": "code",
   "execution_count": 39,
   "metadata": {},
   "outputs": [
    {
     "ename": "SyntaxError",
     "evalue": "invalid syntax (<ipython-input-39-04669377ea8a>, line 6)",
     "output_type": "error",
     "traceback": [
      "\u001b[1;36m  File \u001b[1;32m\"<ipython-input-39-04669377ea8a>\"\u001b[1;36m, line \u001b[1;32m6\u001b[0m\n\u001b[1;33m    while :\u001b[0m\n\u001b[1;37m          ^\u001b[0m\n\u001b[1;31mSyntaxError\u001b[0m\u001b[1;31m:\u001b[0m invalid syntax\n"
     ]
    }
   ],
   "source": [
    "#Any base addition\n",
    "def addNumbers(x,y,b):\n",
    "    ans=0\n",
    "    carry=0\n",
    "    power=1\n",
    "    while :\n",
    "        d1=x%10\n",
    "        x=x//10\n",
    "        d2=y%10\n",
    "        y=y//10\n",
    "        digit=d1+d2+carry\n",
    "        carry=digit//b\n",
    "        digit=digit%b\n",
    "        ans=ans+ (digit*power)\n",
    "\n",
    "addNumbers(1110,11,2)"
   ]
  },
  {
   "cell_type": "code",
   "execution_count": null,
   "metadata": {},
   "outputs": [],
   "source": [
    "17"
   ]
  }
 ],
 "metadata": {
  "kernelspec": {
   "display_name": "Python 3",
   "language": "python",
   "name": "python3"
  },
  "language_info": {
   "codemirror_mode": {
    "name": "ipython",
    "version": 3
   },
   "file_extension": ".py",
   "mimetype": "text/x-python",
   "name": "python",
   "nbconvert_exporter": "python",
   "pygments_lexer": "ipython3",
   "version": "3.8.5"
  }
 },
 "nbformat": 4,
 "nbformat_minor": 4
}
