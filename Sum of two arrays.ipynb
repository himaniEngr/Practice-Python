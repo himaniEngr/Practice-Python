{
 "cells": [
  {
   "cell_type": "code",
   "execution_count": 18,
   "metadata": {},
   "outputs": [
    {
     "name": "stdout",
     "output_type": "stream",
     "text": [
      "Enter first array2 5 8 3 9\n",
      "Enter second array2 7 9 4 3 5 1\n",
      "[2, 8, 2, 0, 1, 9, 0]\n"
     ]
    }
   ],
   "source": [
    "arr1=list(map(int, input('Enter first array').strip().split()))\n",
    "arr2=list(map(int, input('Enter second array').strip().split()))\n",
    "i=len(arr1)-1\n",
    "j=len(arr2)-1\n",
    "k=max(i,j)+1\n",
    "arr3=[0]*(k)\n",
    "carry=0\n",
    "while k>=0:\n",
    "    d=carry  \n",
    "    if i>=0:\n",
    "        d+=arr1[i]\n",
    "    if j>=0:\n",
    "        d+=arr2[j]\n",
    "    carry=d//10\n",
    "    d=d%10\n",
    "    arr3[k-1]+=d\n",
    "    i-=1\n",
    "    j-=1\n",
    "    k-=1\n",
    "if carry>0:\n",
    "    arr3.insert(0,carry)\n",
    "print(arr3)\n",
    "    "
   ]
  },
  {
   "cell_type": "code",
   "execution_count": 19,
   "metadata": {},
   "outputs": [
    {
     "data": {
      "text/plain": [
       "2820190"
      ]
     },
     "execution_count": 19,
     "metadata": {},
     "output_type": "execute_result"
    }
   ],
   "source": []
  },
  {
   "cell_type": "code",
   "execution_count": null,
   "metadata": {},
   "outputs": [],
   "source": []
  }
 ],
 "metadata": {
  "kernelspec": {
   "display_name": "Python 3",
   "language": "python",
   "name": "python3"
  },
  "language_info": {
   "codemirror_mode": {
    "name": "ipython",
    "version": 3
   },
   "file_extension": ".py",
   "mimetype": "text/x-python",
   "name": "python",
   "nbconvert_exporter": "python",
   "pygments_lexer": "ipython3",
   "version": "3.8.5"
  }
 },
 "nbformat": 4,
 "nbformat_minor": 4
}
