{
 "cells": [
  {
   "cell_type": "code",
   "execution_count": 6,
   "metadata": {},
   "outputs": [
    {
     "name": "stdout",
     "output_type": "stream",
     "text": [
      "Enter length of array6\n",
      "Enter array1 3 4 5 6 7\n",
      "1\t\n",
      "1\t3\t\n",
      "1\t3\t4\t\n",
      "1\t3\t4\t5\t\n",
      "1\t3\t4\t5\t6\t\n",
      "1\t3\t4\t5\t6\t7\t\n",
      "3\t\n",
      "3\t4\t\n",
      "3\t4\t5\t\n",
      "3\t4\t5\t6\t\n",
      "3\t4\t5\t6\t7\t\n",
      "4\t\n",
      "4\t5\t\n",
      "4\t5\t6\t\n",
      "4\t5\t6\t7\t\n",
      "5\t\n",
      "5\t6\t\n",
      "5\t6\t7\t\n",
      "6\t\n",
      "6\t7\t\n",
      "7\t\n"
     ]
    }
   ],
   "source": [
    "def printSubArr(arr,n):\n",
    "    for i in range(n):\n",
    "        for j in range (i,n):\n",
    "            for k in range(i,j+1):\n",
    "                print(arr[k],end='\\t')\n",
    "            print()\n",
    "\n",
    "n=int(input('Enter length of array'))\n",
    "arr=list(map(int,input('Enter array').strip().split()))\n",
    "printSubArr(arr,n)"
   ]
  },
  {
   "cell_type": "code",
   "execution_count": null,
   "metadata": {},
   "outputs": [],
   "source": []
  }
 ],
 "metadata": {
  "kernelspec": {
   "display_name": "Python 3",
   "language": "python",
   "name": "python3"
  },
  "language_info": {
   "codemirror_mode": {
    "name": "ipython",
    "version": 3
   },
   "file_extension": ".py",
   "mimetype": "text/x-python",
   "name": "python",
   "nbconvert_exporter": "python",
   "pygments_lexer": "ipython3",
   "version": "3.8.5"
  }
 },
 "nbformat": 4,
 "nbformat_minor": 4
}
