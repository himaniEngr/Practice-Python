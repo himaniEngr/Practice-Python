{
 "cells": [
  {
   "cell_type": "code",
   "execution_count": 4,
   "metadata": {},
   "outputs": [
    {
     "name": "stdout",
     "output_type": "stream",
     "text": [
      "Enter first array2 5 7 9 3 \n",
      "Enter second array3 5 7 8 9 3 2 4 1\n",
      "[3, 5, 7, 8, 6, 7, 4, 4, 8]\n"
     ]
    }
   ],
   "source": [
    "arr1=list(map(int, input('Enter first array').strip().split()))\n",
    "arr2=list(map(int, input('Enter second array').strip().split()))\n",
    "n1,n2=len(arr1), len(arr2)\n",
    "mx=len(arr2) #because arr2 is never shorter than arr1\n",
    "arr=[0]*mx\n",
    "i=n1-1\n",
    "j=n2-1\n",
    "k=mx-1\n",
    "\n",
    "c=0\n",
    "while i>=0 or j>=0:\n",
    "    diff=0\n",
    "    if c==0:\n",
    "        diff=arr2[j]\n",
    "    else:\n",
    "        diff=arr2[j]-1\n",
    "    c=0\n",
    "    if i>=0:\n",
    "        diff-=arr1[i]\n",
    "    if diff<0:\n",
    "        c=1\n",
    "        diff+=10\n",
    "    arr[k]=diff\n",
    "    i-=1\n",
    "    j-=1\n",
    "    k-=1\n",
    "print(arr)"
   ]
  },
  {
   "cell_type": "code",
   "execution_count": 2,
   "metadata": {},
   "outputs": [
    {
     "data": {
      "text/plain": [
       "(20, 10)"
      ]
     },
     "execution_count": 2,
     "metadata": {},
     "output_type": "execute_result"
    }
   ],
   "source": [
    "a,b=10,20\n",
    "a,b=b,a\n",
    "a,b"
   ]
  },
  {
   "cell_type": "code",
   "execution_count": null,
   "metadata": {},
   "outputs": [],
   "source": []
  }
 ],
 "metadata": {
  "kernelspec": {
   "display_name": "Python 3",
   "language": "python",
   "name": "python3"
  },
  "language_info": {
   "codemirror_mode": {
    "name": "ipython",
    "version": 3
   },
   "file_extension": ".py",
   "mimetype": "text/x-python",
   "name": "python",
   "nbconvert_exporter": "python",
   "pygments_lexer": "ipython3",
   "version": "3.8.5"
  }
 },
 "nbformat": 4,
 "nbformat_minor": 4
}
