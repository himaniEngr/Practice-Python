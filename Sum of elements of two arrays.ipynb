{
 "cells": [
  {
   "cell_type": "code",
   "execution_count": 2,
   "metadata": {},
   "outputs": [
    {
     "name": "stdout",
     "output_type": "stream",
     "text": [
      "Enter length of both arrays5\n",
      "Enter first array1 3 4 5 56\n",
      "Enter second array1 3 4 5 5\n",
      "[2, 6, 8, 10, 61]\n"
     ]
    }
   ],
   "source": [
    "n=int(input('Enter length of both arrays'))\n",
    "arr1=list(map(int, input('Enter first array').strip().split()))\n",
    "arr2=list(map(int,input('Enter second array').strip().split()))\n",
    "arr_sum=[]\n",
    "for i in range(n):\n",
    "    arr_sum.append(arr1[i]+arr2[i])\n",
    "print(arr_sum)"
   ]
  },
  {
   "cell_type": "code",
   "execution_count": null,
   "metadata": {},
   "outputs": [],
   "source": []
  }
 ],
 "metadata": {
  "kernelspec": {
   "display_name": "Python 3",
   "language": "python",
   "name": "python3"
  },
  "language_info": {
   "codemirror_mode": {
    "name": "ipython",
    "version": 3
   },
   "file_extension": ".py",
   "mimetype": "text/x-python",
   "name": "python",
   "nbconvert_exporter": "python",
   "pygments_lexer": "ipython3",
   "version": "3.8.5"
  }
 },
 "nbformat": 4,
 "nbformat_minor": 4
}
