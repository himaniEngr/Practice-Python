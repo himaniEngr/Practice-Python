{
 "cells": [
  {
   "cell_type": "code",
   "execution_count": 10,
   "metadata": {},
   "outputs": [
    {
     "name": "stdout",
     "output_type": "stream",
     "text": [
      "print size of array 8\n",
      "enter array items 7\n",
      "enter array items 80\n",
      "enter array items 98\n",
      "enter array items 67\n",
      "enter array items 89\n",
      "enter array items 009\n",
      "enter array items 65\n",
      "enter array items 34\n",
      "91\n"
     ]
    }
   ],
   "source": [
    "def SpanOfArray(arr,num):\n",
    "    minVal=arr[0]\n",
    "    maxVal=arr[0]\n",
    "    for i in range(1,num):\n",
    "        if arr[i]>maxVal:\n",
    "            maxVal=arr[i]\n",
    "        if arr[i]<minVal:\n",
    "            minVal=arr[i]\n",
    "    return (maxVal-minVal)\n",
    "\n",
    "num=int(input('print size of array '))\n",
    "arr=[0]*num\n",
    "for i in range(num):\n",
    "    arr[i]=int(input('enter array items '))\n",
    "    \n",
    "print(SpanOfArray(arr,num))"
   ]
  },
  {
   "cell_type": "code",
   "execution_count": null,
   "metadata": {},
   "outputs": [],
   "source": []
  }
 ],
 "metadata": {
  "kernelspec": {
   "display_name": "Python 3",
   "language": "python",
   "name": "python3"
  },
  "language_info": {
   "codemirror_mode": {
    "name": "ipython",
    "version": 3
   },
   "file_extension": ".py",
   "mimetype": "text/x-python",
   "name": "python",
   "nbconvert_exporter": "python",
   "pygments_lexer": "ipython3",
   "version": "3.8.5"
  }
 },
 "nbformat": 4,
 "nbformat_minor": 4
}
