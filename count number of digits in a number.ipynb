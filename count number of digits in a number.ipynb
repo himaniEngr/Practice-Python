{
 "cells": [
  {
   "cell_type": "code",
   "execution_count": 5,
   "metadata": {},
   "outputs": [
    {
     "name": "stdout",
     "output_type": "stream",
     "text": [
      "Enter a number12344545\n",
      "Number of digits in 12344545 is 8\n"
     ]
    }
   ],
   "source": [
    "def numDig(num):\n",
    "    if num==0:\n",
    "        return 1\n",
    "    count=0\n",
    "    while num:\n",
    "        count+=1\n",
    "        num=num//10\n",
    "    return count\n",
    "n=int(input('Enter a number'))\n",
    "print('Number of digits in',n, 'is', numDig(n))"
   ]
  },
  {
   "cell_type": "code",
   "execution_count": null,
   "metadata": {},
   "outputs": [],
   "source": []
  }
 ],
 "metadata": {
  "kernelspec": {
   "display_name": "Python 3",
   "language": "python",
   "name": "python3"
  },
  "language_info": {
   "codemirror_mode": {
    "name": "ipython",
    "version": 3
   },
   "file_extension": ".py",
   "mimetype": "text/x-python",
   "name": "python",
   "nbconvert_exporter": "python",
   "pygments_lexer": "ipython3",
   "version": "3.8.5"
  }
 },
 "nbformat": 4,
 "nbformat_minor": 4
}
