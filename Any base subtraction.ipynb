{
 "cells": [
  {
   "cell_type": "code",
   "execution_count": 3,
   "metadata": {},
   "outputs": [
    {
     "name": "stdout",
     "output_type": "stream",
     "text": [
      "Enter first number234\n",
      "Enter second number1212\n",
      "Enter base8\n"
     ]
    },
    {
     "data": {
      "text/plain": [
       "756"
      ]
     },
     "execution_count": 3,
     "metadata": {},
     "output_type": "execute_result"
    }
   ],
   "source": [
    "n1=int(input('Enter first number'))\n",
    "n2=int(input('Enter second number'))\n",
    "b=int(input('Enter base'))\n",
    "def anyBaseSubtraction(n1,n2,base):             #subtract n1 from n2\n",
    "    ans=0\n",
    "    carry=0\n",
    "    power=1\n",
    "    while n2>n1 :\n",
    "        d1=n1%10\n",
    "        n1=n1//10\n",
    "        d2=n2%10+carry\n",
    "        n2=n2//10\n",
    "        if d2-d1>=0:\n",
    "            digit=d2-d1\n",
    "            carry=0\n",
    "        else:\n",
    "            digit=d2+base-d1\n",
    "            carry=-1\n",
    "        ans=ans+(digit*power)\n",
    "        power*=10\n",
    "    return ans\n",
    "anyBaseSubtraction(n1,n2,b)"
   ]
  },
  {
   "cell_type": "code",
   "execution_count": null,
   "metadata": {},
   "outputs": [],
   "source": []
  }
 ],
 "metadata": {
  "kernelspec": {
   "display_name": "Python 3",
   "language": "python",
   "name": "python3"
  },
  "language_info": {
   "codemirror_mode": {
    "name": "ipython",
    "version": 3
   },
   "file_extension": ".py",
   "mimetype": "text/x-python",
   "name": "python",
   "nbconvert_exporter": "python",
   "pygments_lexer": "ipython3",
   "version": "3.8.5"
  }
 },
 "nbformat": 4,
 "nbformat_minor": 4
}
