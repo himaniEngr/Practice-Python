{
 "cells": [
  {
   "cell_type": "code",
   "execution_count": 3,
   "metadata": {},
   "outputs": [
    {
     "name": "stdout",
     "output_type": "stream",
     "text": [
      "Enter first number234\n",
      "Enter second number1212\n",
      "Enter base8\n"
     ]
    },
    {
     "data": {
      "text/plain": [
       "756"
      ]
     },
     "execution_count": 3,
     "metadata": {},
     "output_type": "execute_result"
    }
   ],
   "source": [
    "n1=int(input('Enter first number'))\n",
    "n2=int(input('Enter second number'))\n",
    "b=int(input('Enter base'))\n",
    "def anyBaseSubtraction(n1,n2,base):             #subtract n1 from n2\n",
    "    ans=0\n",
    "    carry=0\n",
    "    power=1\n",
    "    while n2>n1 :\n",
    "        d1=n1%10\n",
    "        n1=n1//10\n",
    "        d2=n2%10+carry\n",
    "        n2=n2//10\n",
    "        if d2-d1>=0:\n",
    "            digit=d2-d1\n",
    "            carry=0\n",
    "        else:\n",
    "            digit=d2+base-d1\n",
    "            carry=-1\n",
    "        ans=ans+(digit*power)\n",
    "        power*=10\n",
    "    return ans\n",
    "anyBaseSubtraction(n1,n2,b)"
   ]
  },
  {
   "cell_type": "code",
   "execution_count": 7,
   "metadata": {},
   "outputs": [
    {
     "name": "stdout",
     "output_type": "stream",
     "text": [
      "Enter number of test cases5\n",
      "Enter number to be tested7\n",
      "Prime Number\n",
      "Enter number to be tested8\n",
      "Not Prime\n",
      "Enter number to be tested2\n",
      "Prime Number\n",
      "Enter number to be tested0\n",
      "Not Prime\n",
      "Enter number to be tested1\n",
      "Not Prime\n"
     ]
    }
   ],
   "source": [
    "import math\n",
    "def checkPrime(num):\n",
    "    prime='Prime Number'\n",
    "    n=math.ceil(math.sqrt(num))\n",
    "    if num>=2:\n",
    "        for i in range(2,n):\n",
    "            if num%i==0:\n",
    "                prime='Not Prime'\n",
    "    else:\n",
    "        prime='Not Prime'\n",
    "    \n",
    "    return prime\n",
    "    \n",
    "testCases=int(input('Enter number of test cases'))\n",
    "for _ in range(testCases):\n",
    "    num=int(input('Enter number to be tested'))\n",
    "    print(checkPrime(num))"
   ]
  },
  {
   "cell_type": "code",
   "execution_count": null,
   "metadata": {},
   "outputs": [],
   "source": []
  }
 ],
 "metadata": {
  "kernelspec": {
   "display_name": "Python 3",
   "language": "python",
   "name": "python3"
  }
 },
 "nbformat": 4,
 "nbformat_minor": 4
}
