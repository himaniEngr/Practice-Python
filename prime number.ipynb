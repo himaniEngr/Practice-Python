{
 "cells": [
  {
   "cell_type": "code",
   "execution_count": 11,
   "metadata": {},
   "outputs": [
    {
     "name": "stdout",
     "output_type": "stream",
     "text": [
      "Enter number of test cases4\n",
      "Enter number to be tested1\n",
      "Not Prime\n",
      "Enter number to be tested2\n",
      "Prime\n",
      "Enter number to be tested3\n",
      "Prime\n",
      "Enter number to be tested4\n",
      "Not Prime\n"
     ]
    }
   ],
   "source": [
    "import math\n",
    "def checkPrime(num):\n",
    "    prime='Prime'\n",
    "    if num==2:\n",
    "        return prime\n",
    "    n=math.ceil(math.sqrt(num))\n",
    "    if num>=2:\n",
    "        for i in range(2,n+1):\n",
    "            if num%i==0:\n",
    "                prime='Not Prime'\n",
    "    else:\n",
    "        prime='Not Prime'\n",
    "    \n",
    "    return prime\n",
    "    \n",
    "testCases=int(input('Enter number of test cases'))\n",
    "for _ in range(testCases):\n",
    "    num=int(input('Enter number to be tested'))\n",
    "    print(checkPrime(num))"
   ]
  },
  {
   "cell_type": "markdown",
   "metadata": {},
   "source": []
  }
 ],
 "metadata": {
  "kernelspec": {
   "display_name": "Python 3",
   "language": "python",
   "name": "python3"
  },
  "language_info": {
   "codemirror_mode": {
    "name": "ipython",
    "version": 3
   },
   "file_extension": ".py",
   "mimetype": "text/x-python",
   "name": "python",
   "nbconvert_exporter": "python",
   "pygments_lexer": "ipython3",
   "version": "3.8.5"
  }
 },
 "nbformat": 4,
 "nbformat_minor": 4
}
