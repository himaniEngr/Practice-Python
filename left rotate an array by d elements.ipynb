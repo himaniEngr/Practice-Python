{
 "cells": [
  {
   "cell_type": "code",
   "execution_count": 1,
   "metadata": {},
   "outputs": [
    {
     "name": "stdout",
     "output_type": "stream",
     "text": [
      "Enter length of array7\n",
      "Enter array to be rotated2 3 4 5 6 3 9\n",
      "Enter number of times to be rotated3\n"
     ]
    },
    {
     "data": {
      "text/plain": [
       "[5, 6, 3, 9, 2, 3, 4]"
      ]
     },
     "execution_count": 1,
     "metadata": {},
     "output_type": "execute_result"
    }
   ],
   "source": [
    "n=int(input('Enter length of array'))\n",
    "arr=list(map(int,input('Enter array to be rotated').strip().split()))\n",
    "d=int(input('Enter number of times to be rotated'))\n",
    "d=d%n\n",
    "if d<0:\n",
    "    d+=n\n",
    "arr[:]=arr[d:]+arr[:d]\n",
    "arr"
   ]
  },
  {
   "cell_type": "code",
   "execution_count": 3,
   "metadata": {},
   "outputs": [
    {
     "name": "stdout",
     "output_type": "stream",
     "text": [
      "5 6 3 9 2 3 4 "
     ]
    }
   ],
   "source": [
    "for i in range(n):\n",
    "    print(arr[i],end=' ')"
   ]
  },
  {
   "cell_type": "code",
   "execution_count": null,
   "metadata": {},
   "outputs": [],
   "source": []
  }
 ],
 "metadata": {
  "kernelspec": {
   "display_name": "Python 3",
   "language": "python",
   "name": "python3"
  },
  "language_info": {
   "codemirror_mode": {
    "name": "ipython",
    "version": 3
   },
   "file_extension": ".py",
   "mimetype": "text/x-python",
   "name": "python",
   "nbconvert_exporter": "python",
   "pygments_lexer": "ipython3",
   "version": "3.8.5"
  }
 },
 "nbformat": 4,
 "nbformat_minor": 4
}
