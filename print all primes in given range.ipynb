{
 "cells": [
  {
   "cell_type": "code",
   "execution_count": 15,
   "metadata": {},
   "outputs": [
    {
     "name": "stdout",
     "output_type": "stream",
     "text": [
      "Enter lower bound0\n",
      "Enter upper bound14\n",
      "2\n",
      "3\n",
      "5\n",
      "7\n",
      "11\n",
      "13\n"
     ]
    }
   ],
   "source": [
    "import math\n",
    "def checkPrime(num):\n",
    "    prime=1\n",
    "    n=math.ceil(math.sqrt(num))\n",
    "    if num>=2:\n",
    "        for i in range(2,n+1):\n",
    "            if num%i==0:\n",
    "                prime=0\n",
    "    else:\n",
    "        prime=0\n",
    "    \n",
    "    return prime\n",
    "    \n",
    "low=int(input('Enter lower bound'))\n",
    "high=int(input('Enter upper bound'))\n",
    "if low<=2:\n",
    "    print(2)\n",
    "for i in range(low, high+1):\n",
    "    if checkPrime(i):\n",
    "        print(i)"
   ]
  },
  {
   "cell_type": "code",
   "execution_count": null,
   "metadata": {},
   "outputs": [],
   "source": []
  }
 ],
 "metadata": {
  "kernelspec": {
   "display_name": "Python 3",
   "language": "python",
   "name": "python3"
  }
 },
 "nbformat": 4,
 "nbformat_minor": 4
}
