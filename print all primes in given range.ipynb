{
 "cells": [
  {
   "cell_type": "code",
   "execution_count": 12,
   "metadata": {},
   "outputs": [
    {
     "name": "stdout",
     "output_type": "stream",
     "text": [
      "Enter lower bound80\n",
      "Enter upper bound120\n",
      "83\n",
      "89\n",
      "97\n",
      "101\n",
      "103\n",
      "107\n",
      "109\n",
      "113\n"
     ]
    }
   ],
   "source": [
    "import math\n",
    "def checkPrime(num):\n",
    "    prime=1\n",
    "    n=math.ceil(math.sqrt(num))\n",
    "    if num>=2:\n",
    "        for i in range(2,n+1):\n",
    "            if num%i==0:\n",
    "                prime=0\n",
    "    else:\n",
    "        prime=0\n",
    "    \n",
    "    return prime\n",
    "    \n",
    "low=int(input('Enter lower bound'))\n",
    "high=int(input('Enter upper bound'))\n",
    "for i in range(low, high+1):\n",
    "    if checkPrime(i):\n",
    "        print(i)"
   ]
  },
  {
   "cell_type": "code",
   "execution_count": null,
   "metadata": {},
   "outputs": [],
   "source": []
  }
 ],
 "metadata": {
  "kernelspec": {
   "display_name": "Python 3",
   "language": "python",
   "name": "python3"
  }
 },
 "nbformat": 4,
 "nbformat_minor": 4
}
