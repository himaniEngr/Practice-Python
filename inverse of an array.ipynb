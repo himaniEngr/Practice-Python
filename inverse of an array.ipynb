{
 "cells": [
  {
   "cell_type": "code",
   "execution_count": 9,
   "metadata": {},
   "outputs": [
    {
     "name": "stdout",
     "output_type": "stream",
     "text": [
      "enter size of array5\n",
      "enter array items4 2 1 3 0\n",
      "inverse of array is:  [4, 2, 1, 3, 0]\n"
     ]
    }
   ],
   "source": [
    "def inverseOfArray(n,arr):\n",
    "    invArr=[0]*n\n",
    "    for i in range(n):\n",
    "        val=arr[i]\n",
    "        invArr[val]=i\n",
    "    return invArr\n",
    "\n",
    "n=int(input('enter size of array'))\n",
    "arr=list(map(int, input('enter array items').strip().split()))\n",
    "\n",
    "print('inverse of array is: ',inverseOfArray(n,arr))\n"
   ]
  },
  {
   "cell_type": "code",
   "execution_count": null,
   "metadata": {},
   "outputs": [],
   "source": []
  }
 ],
 "metadata": {
  "kernelspec": {
   "display_name": "Python 3",
   "language": "python",
   "name": "python3"
  },
  "language_info": {
   "codemirror_mode": {
    "name": "ipython",
    "version": 3
   },
   "file_extension": ".py",
   "mimetype": "text/x-python",
   "name": "python",
   "nbconvert_exporter": "python",
   "pygments_lexer": "ipython3",
   "version": "3.8.5"
  }
 },
 "nbformat": 4,
 "nbformat_minor": 4
}
