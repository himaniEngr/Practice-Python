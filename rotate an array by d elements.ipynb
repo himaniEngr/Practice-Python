{
 "cells": [
  {
   "cell_type": "code",
   "execution_count": 9,
   "metadata": {},
   "outputs": [
    {
     "name": "stdout",
     "output_type": "stream",
     "text": [
      "Enter length of array5\n",
      "Enter array to be rotated1 2 3 4 5\n",
      "Enter number of times to be rotated16\n",
      "rotated array is [2, 3, 4, 5, 1]\n"
     ]
    }
   ],
   "source": [
    "def rotateArray(arr,n,d):\n",
    "    d=d%n\n",
    "    if d<0:\n",
    "        d+=n\n",
    "    temp = []\n",
    "    for i in range(d,n):\n",
    "        temp.append(arr[i])\n",
    "        \n",
    "    for i in range (0,d):\n",
    "        temp.append(arr[i])\n",
    "    arr=temp.copy()\n",
    "    return arr\n",
    "n=int(input('Enter length of array '))\n",
    "arr=list(map(int,input('Enter array to be rotated ').strip().split()))\n",
    "d=int(input('Enter number of times to be rotated '))\n",
    "print('rotated array is', rotateArray(arr,n,d))"
   ]
  },
  {
   "cell_type": "code",
   "execution_count": null,
   "metadata": {},
   "outputs": [],
   "source": [
    "\n"
   ]
  },
  {
   "cell_type": "code",
   "execution_count": null,
   "metadata": {},
   "outputs": [],
   "source": []
  }
 ],
 "metadata": {
  "kernelspec": {
   "display_name": "Python 3",
   "language": "python",
   "name": "python3"
  },
  "language_info": {
   "codemirror_mode": {
    "name": "ipython",
    "version": 3
   },
   "file_extension": ".py",
   "mimetype": "text/x-python",
   "name": "python",
   "nbconvert_exporter": "python",
   "pygments_lexer": "ipython3",
   "version": "3.8.5"
  }
 },
 "nbformat": 4,
 "nbformat_minor": 4
}
