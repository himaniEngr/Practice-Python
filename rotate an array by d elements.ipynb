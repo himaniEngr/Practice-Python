{
 "cells": [
  {
   "cell_type": "code",
   "execution_count": 6,
   "metadata": {},
   "outputs": [
    {
     "name": "stdout",
     "output_type": "stream",
     "text": [
      "Enter length of array4\n",
      "Enter array to be rotated2 4 5 5 \n",
      "Enter number of times to be rotated2\n",
      "rotated array is [5, 5, 2, 4]\n"
     ]
    }
   ],
   "source": [
    "def rotateArray(arr,n,d):\n",
    "    temp = []\n",
    "    for i in range(d,n):\n",
    "        temp.append(arr[i])\n",
    "        \n",
    "    for i in range (0,d):\n",
    "        temp.append(arr[i])\n",
    "    arr=temp.copy()\n",
    "    return arr\n",
    "n=int(input('Enter length of array'))\n",
    "arr=list(map(int,input('Enter array to be rotated').strip().split()))\n",
    "d=int(input('Enter number of times to be rotated'))\n",
    "print('rotated array is', rotateArray(arr,n,d))"
   ]
  },
  {
   "cell_type": "code",
   "execution_count": 2,
   "metadata": {},
   "outputs": [
    {
     "data": {
      "text/plain": [
       "(5, 3, [1, 3, 4, 5, 6])"
      ]
     },
     "execution_count": 2,
     "metadata": {},
     "output_type": "execute_result"
    }
   ],
   "source": [
    "n,d,arr\n"
   ]
  },
  {
   "cell_type": "code",
   "execution_count": null,
   "metadata": {},
   "outputs": [],
   "source": []
  }
 ],
 "metadata": {
  "kernelspec": {
   "display_name": "Python 3",
   "language": "python",
   "name": "python3"
  },
  "language_info": {
   "codemirror_mode": {
    "name": "ipython",
    "version": 3
   },
   "file_extension": ".py",
   "mimetype": "text/x-python",
   "name": "python",
   "nbconvert_exporter": "python",
   "pygments_lexer": "ipython3",
   "version": "3.8.5"
  }
 },
 "nbformat": 4,
 "nbformat_minor": 4
}
