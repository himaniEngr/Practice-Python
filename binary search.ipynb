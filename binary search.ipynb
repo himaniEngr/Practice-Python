{
 "cells": [
  {
   "cell_type": "code",
   "execution_count": 8,
   "metadata": {},
   "outputs": [
    {
     "name": "stdout",
     "output_type": "stream",
     "text": [
      "1 3 4 6 7 8 9\n",
      "Sorted array is [1, 3, 4, 6, 7, 8, 9]\n",
      "Enter number to be searched56\n",
      "-1\n"
     ]
    }
   ],
   "source": [
    "def binSearch(arr,n):\n",
    "    lo=0\n",
    "    hi=len(arr)-1\n",
    "    while lo<=hi:\n",
    "        mid=(lo+hi)//2\n",
    "        if(arr[mid]==n):\n",
    "            return mid\n",
    "        elif (arr[mid]<n):\n",
    "            lo=mid+1\n",
    "        else:\n",
    "            hi=mid-1\n",
    "    return -1\n",
    "arr= list(map(int,input().strip().split()))\n",
    "arr.sort()\n",
    "print('Sorted array is', arr)\n",
    "n=int(input('Enter number to be searched'))\n",
    "index=binSearch(arr,n)\n",
    "print(index)"
   ]
  },
  {
   "cell_type": "code",
   "execution_count": null,
   "metadata": {},
   "outputs": [],
   "source": []
  },
  {
   "cell_type": "code",
   "execution_count": null,
   "metadata": {},
   "outputs": [],
   "source": []
  }
 ],
 "metadata": {
  "kernelspec": {
   "display_name": "Python 3",
   "language": "python",
   "name": "python3"
  },
  "language_info": {
   "codemirror_mode": {
    "name": "ipython",
    "version": 3
   },
   "file_extension": ".py",
   "mimetype": "text/x-python",
   "name": "python",
   "nbconvert_exporter": "python",
   "pygments_lexer": "ipython3",
   "version": "3.8.5"
  }
 },
 "nbformat": 4,
 "nbformat_minor": 4
}
