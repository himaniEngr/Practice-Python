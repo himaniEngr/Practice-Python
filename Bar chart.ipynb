{
 "cells": [
  {
   "cell_type": "code",
   "execution_count": 17,
   "metadata": {},
   "outputs": [
    {
     "name": "stdout",
     "output_type": "stream",
     "text": [
      "Enter size of array 5\n",
      "Enter array items 1 4 6 8 10\n",
      "\t\t\t\t*\t\n",
      "\n",
      "\t\t\t\t*\t\n",
      "\n",
      "\t\t\t*\t*\t\n",
      "\n",
      "\t\t\t*\t*\t\n",
      "\n",
      "\t\t*\t*\t*\t\n",
      "\n",
      "\t\t*\t*\t*\t\n",
      "\n",
      "\t*\t*\t*\t*\t\n",
      "\n",
      "\t*\t*\t*\t*\t\n",
      "\n",
      "\t*\t*\t*\t*\t\n",
      "\n",
      "*\t*\t*\t*\t*\t\n",
      "\n"
     ]
    }
   ],
   "source": [
    "n=int(input('Enter size of array '))\n",
    "arr=list(map(int, input('Enter array items ').split()))\n",
    "m=max(arr)\n",
    "for i in range(m,0,-1):\n",
    "    for j in range(n):\n",
    "        if arr[j]>=i:\n",
    "            print('*\\t',end='')\n",
    "        else:\n",
    "            print('\\t',end='')\n",
    "    print('\\n')"
   ]
  },
  {
   "cell_type": "code",
   "execution_count": null,
   "metadata": {},
   "outputs": [],
   "source": [
    "\n"
   ]
  },
  {
   "cell_type": "code",
   "execution_count": null,
   "metadata": {},
   "outputs": [],
   "source": []
  }
 ],
 "metadata": {
  "kernelspec": {
   "display_name": "Python 3",
   "language": "python",
   "name": "python3"
  },
  "language_info": {
   "codemirror_mode": {
    "name": "ipython",
    "version": 3
   },
   "file_extension": ".py",
   "mimetype": "text/x-python",
   "name": "python",
   "nbconvert_exporter": "python",
   "pygments_lexer": "ipython3",
   "version": "3.8.5"
  }
 },
 "nbformat": 4,
 "nbformat_minor": 4
}
